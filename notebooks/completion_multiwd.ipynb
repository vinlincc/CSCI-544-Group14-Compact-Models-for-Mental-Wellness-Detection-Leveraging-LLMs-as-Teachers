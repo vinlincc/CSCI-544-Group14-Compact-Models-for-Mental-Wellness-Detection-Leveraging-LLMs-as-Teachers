{
 "cells": [
  {
   "cell_type": "code",
   "execution_count": 1,
   "metadata": {},
   "outputs": [],
   "source": [
    "import openai\n",
    "openai.api_key = \"\""
   ]
  },
  {
   "cell_type": "code",
   "execution_count": 2,
   "metadata": {},
   "outputs": [],
   "source": [
    "from data.completion_dataset import CompletionMetadata, CompletionDataset\n",
    "from oai.inference import infer_completion_data"
   ]
  },
  {
   "cell_type": "code",
   "execution_count": 3,
   "metadata": {},
   "outputs": [],
   "source": [
    "#teacher_base_model = \"text-davinci-002\"  # GPT-3 (175B)\n",
    "teacher_base_model = \"gpt-3.5-turbo-instruct\"\n",
    "#base_model = \"ada\"                       # GPT-3 (0.3B)\n",
    "#base_model = \"babbage\"                   # GPT-3 (1.3B)\n",
    "base_model = \"curie\"                     # GPT-3 (6.7B)\n",
    "dataset_key = \"multiwd\"\n",
    "# dataset_key = \"lrf\"\n",
    "# dataset_key = \"multiwdsmall\""
   ]
  },
  {
   "cell_type": "code",
   "execution_count": 4,
   "metadata": {},
   "outputs": [],
   "source": [
    "# Note, completion_key identifies the method used to generate completions\n",
    "# Note, prediction_template selects the prediction template from those pre-defined in\n",
    "#       `oai.data.format.Formatter`.\n",
    "completion_metadata = CompletionMetadata(base_model=teacher_base_model, completion_key=\"zs_cot\",\n",
    "                                         dataset_key=dataset_key, prediction_template=\"zs_cot\")"
   ]
  },
  {
   "cell_type": "code",
   "execution_count": 5,
   "metadata": {},
   "outputs": [],
   "source": [
    "from data.split import load_train_test_split \n",
    "train, test = load_train_test_split(dataset_key)"
   ]
  },
  {
   "cell_type": "code",
   "execution_count": 6,
   "metadata": {},
   "outputs": [
    {
     "name": "stdout",
     "output_type": "stream",
     "text": [
      "Loaded 39200 samples from:\n",
      "/home/azureuser/reasoning-teacher/saved/completion_data/B_gpt-3.5-turbo-instruct__C_zs_cot/D_multiwd.json\n",
      "Inferring completions for 32080 remaining samples (total=39200)\n"
     ]
    },
    {
     "name": "stderr",
     "output_type": "stream",
     "text": [
      "Inferring completions via OpenAI: 100%|██████████| 32080/32080 [2:40:47<00:00,  3.33it/s]  \n"
     ]
    }
   ],
   "source": [
    "# Run Zero-shot-CoT step 1 (rationale generation)\n",
    "# Note, sample_indices=None means we want to infer on all samples\n",
    "completion_dataset = infer_completion_data(completion_metadata, zs_cot_step=1,\n",
    "                                           sample_indices=train, augs=8, temperature=0.7,\n",
    "                                           max_tokens=300)"
   ]
  },
  {
   "cell_type": "code",
   "execution_count": 13,
   "metadata": {},
   "outputs": [
    {
     "name": "stdout",
     "output_type": "stream",
     "text": [
      "Loaded 39200 samples from:\n",
      "/home/azureuser/reasoning-teacher/saved/completion_data/B_gpt-3.5-turbo-instruct__C_zs_cot/D_multiwd.json\n",
      "Inferring completions for 4900 remaining samples (total=39200)\n"
     ]
    },
    {
     "name": "stderr",
     "output_type": "stream",
     "text": [
      "Inferring completions via OpenAI: 100%|██████████| 4900/4900 [19:30<00:00,  4.18it/s]\n"
     ]
    }
   ],
   "source": [
    "# Run Zero-shot-CoT step 2 (answer)\n",
    "completion_dataset = infer_completion_data(completion_metadata, zs_cot_step=2,\n",
    "                                           sample_indices=train, augs=8, temperature=0,\n",
    "                                           max_tokens=20)"
   ]
  },
  {
   "cell_type": "code",
   "execution_count": null,
   "metadata": {},
   "outputs": [],
   "source": []
  }
 ],
 "metadata": {
  "kernelspec": {
   "display_name": "rt",
   "language": "python",
   "name": "python3"
  },
  "language_info": {
   "codemirror_mode": {
    "name": "ipython",
    "version": 3
   },
   "file_extension": ".py",
   "mimetype": "text/x-python",
   "name": "python",
   "nbconvert_exporter": "python",
   "pygments_lexer": "ipython3",
   "version": "3.8.10"
  }
 },
 "nbformat": 4,
 "nbformat_minor": 2
}
