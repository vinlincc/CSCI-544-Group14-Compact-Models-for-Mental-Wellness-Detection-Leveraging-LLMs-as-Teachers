{
 "cells": [
  {
   "cell_type": "code",
   "execution_count": 9,
   "metadata": {},
   "outputs": [
    {
     "ename": "SyntaxError",
     "evalue": "(unicode error) 'unicodeescape' codec can't decode bytes in position 18-22: truncated \\uXXXX escape (4098460685.py, line 66)",
     "output_type": "error",
     "traceback": [
      "\u001b[0;36m  Cell \u001b[0;32mIn[9], line 66\u001b[0;36m\u001b[0m\n\u001b[0;31m    \"\\uf8ff\\u00fc\\u00a7\\u00e\":\"\",\u001b[0m\n\u001b[0m    ^\u001b[0m\n\u001b[0;31mSyntaxError\u001b[0m\u001b[0;31m:\u001b[0m (unicode error) 'unicodeescape' codec can't decode bytes in position 18-22: truncated \\uXXXX escape\n"
     ]
    }
   ],
   "source": [
    "import json\n",
    "import unicodedata\n",
    "import re\n",
    "\n",
    "uni_dict = {\"\\u201a\\u00c4\\u00f4\": \"'\",\n",
    "            # \"espa\\u221a\\u00b1ol\": \"Spanish\",\n",
    "            # \"xd\\u201a\\u00d1\\u00a2\":\".\",\n",
    "            # \"\\u201a\\u00c4\\u00fastrong\\u201a\\u00c4\\u00f9\": \"strong\",\n",
    "            #  \"\\u201a\\u00c4\\u00fa\": \"\" ,\n",
    "            #  \"\\u201a\\u00c4\\u00f9\":\"\",\n",
    "            #  \"\\uf8ff\\u00fc\\u00eb\\u00ae\\u201a\\u00c4\\u00e7\\uf8ff\\u00fc\\u00e8\\u00b4\":\"\",\n",
    "            #  \"\\u201a\\u00f2\\u00ee (\\u0152\\u00ee just the tip of the iceberg..)\":\"\",\n",
    "            #  \"individual\\u2019s\":\"\",\n",
    "            #  \"fianc\\u221a\\u00a9\":\"fiancee\",\n",
    "            #  \"\\uf8ff\\u00fc\\u00f2\\u00a2\":\"\",\n",
    "            #  \"1000\\u201a\\u00c7\\u00a8\":\"\",\n",
    "            #  \"\\u00d4\\u220f\\u00e8\":\"\",\n",
    "            #  \"fianc\\u00e9e\":\"fiancee\",\n",
    "            #  \"200\\u201a\\u00c7\\u00a8\":\"\",\n",
    "            #  \"\\u201a\\u00f4\\u00b0\":\"\",\n",
    "            #  \"\\uf8ff\\u00fc\\u00f2\\u00c9\":\"\",\n",
    "            #  \"\\u201a\\u00fa\\u00d6\":\"\",\n",
    "            #  \"Dunn\\u2019s\":\"\",\n",
    "            #  \"\\u00d6\":\"\",\n",
    "            #  \"\\uf8ff\\u00fc\\u00f4\\u00c9\":\"\",\n",
    "            #  \"\\u00e9\":\"ee\",\n",
    "            #  \"\\u201a\\u00c4\\u00f2\":\"\",\n",
    "            #  \"fianc\\u00e9\":\"fiancee\",\n",
    "            #  \"\\uf8ff\\u00fc\\u00f1\\u00f1\":\"\",\n",
    "            #  \"\\u201a\\u00c4\\u00b6\":\"\",\n",
    "            #  \"\\uf8ff\\u00fc\\u00f2\\u00ea\":\"\",\n",
    "            #     \"\\u201a\\u00c4\\u00f2\":\"\",\n",
    "            # \"\\u00ac\\u00b4\":\"\",\n",
    "            # \"\\uf8ff\\u00fc\\u00f2\\u00ee\":\"\",\n",
    "            #  \"\\u00e9\":\"e\",\n",
    "            #  \"\\uf8ff\\u00fc\\u00f4\\u00d1\":\"\",\n",
    "            #  \"\\uf8ff\\u00fcee\\u00e2\\uf8ff\\u00fcee\\u00e2\":\"\",\n",
    "            #  \"\\uf8ff\\u00fc\\u00f2\\u00e8\":\"\",\n",
    "            #  \"\\uf8ff\\u00fc\\u00f2\\u00c7\":\"\",\n",
    "            #  \"\\u201a\\u00f2\\u222b\":\"\",\n",
    "            #  \"\\u201a\\u00c4\\u00eeno\":\"\",\n",
    "            #  \"\\u00ac\\u00a5\":\"'\",\n",
    "            #  \"\\u201a\\u00f9\\u00a7\":\"\",\n",
    "            #  \"\\u201a\\u00c4\\u00ee\":\"\",\n",
    "            #  \"\\u201a\\u00c4\\u00e3\":\"\",\n",
    "            #  \"\\uf8ff\\u00fc\\u00ed\\u00f1\":\"\",\n",
    "            #  \"\\u00ac\\u00f8\\u00ac\\u00f8\":\"\",\n",
    "            #  \"\\u00ac\\u00b0\":\"\",\n",
    "            #  \"\\u201a\\u00dc\\u2122\":\"\",\n",
    "            #  \"\\uf8ff\\u00fc\\u00ee\\u00c7\":\"\",\n",
    "            #  \"\\u00ac\\u00f8\\u00ac\\u00f8\":\"\",\n",
    "            #  \"myself\\u00ac\\u00b0\":\"myself\",\n",
    "            #  \"affection \\u201a\\u00dc\\u2122\":\"\",\n",
    "            #  \"e\\u221a\\u00f3\":\"\",\n",
    "            #  \"\\uf8ff\\u00fc\\u00f1\\u00a7\":\"\",\n",
    "            #  \"\\uf8ff\\u00fc\\u00f4\\u00e8\\uf8ff\\u00fc\\u00f4\\u00e8\\uf8ff\\u00fc\\u00f4\\u00e8\":\"\",\n",
    "            #  \"\\uf8ff\\u00fc\\u00a7\\u00b6\\uf8ff\\u00fc\\u00e8\\u03a9\\u201a\\u00c4\\u00e7\\u201a\\u00f4\\u00c4I\":\"\",\n",
    "            #  \"fianc\\u00e9.\":\"\",\n",
    "            # \"me\\uf8ff\\u00fc\\u00f2\\u2260\":\"me\",\n",
    "            #  \"clich\\u00e9\":\"cliche\",\n",
    "            #  \"mentality\\u00ac\\u00aa\":\"mentality\",\n",
    "             \"fianc\\u00e9e\":\"fiancee\",\n",
    "             \"\\u201a\\u00c4\\u00ef\":\"\",\n",
    "             \"fa\\u00e7ade\":\"fade\",\n",
    "             \"\\u00ac\\u00a32\":\"\",\n",
    "             \"\\uf8ff\\u00fc\\u00a7\\u00e\":\"\",\n",
    "             \"one \\uf8ff\\u00fc\\u00a7\\u00b6\\u201a\\u00c4\\u00e7\\u201a\\u00f4\\u00c7\":\"\",\n",
    "             \"\\uf8ff\\u00fc\\u00f2\\u00f8\\uf8ff\\u00fc\\u00f2\\u00f8\\uf8ff\\u00fc\\u00f2\\u00f8\":\"\",\n",
    "             \"\\uf\":\"\",\n",
    "             \"\\uf8ff\\u00fc\\u00f2\\u00f8\":\"\",\n",
    "             \"uf8ff\\u00fc\\u00f2\\u2260\":\"\",\n",
    "             \"fianc\\u00e9e\":\"fiancee\",\n",
    "             \"\\uf8ff\\u00fce\\u00e2\\uf8ff\\u00fce\\u00e2\":\"\",\n",
    "             \" \\uf8ff\\u00fc\\u00a7\\u00f2\":\"\",\n",
    "             \"\\uf8ff\\u00fc\\u00f2\\u00ef\":\"\",\n",
    "             \"\\u201a\\u00c4\\u00fbwow \":\"\",\n",
    "             \"fa\\u00e7ade\":\"fade\",\n",
    "             \"\\u201a\\u00c4\\u00ef\":\"\",\n",
    "             \"\\u201a\\u00c4\\u00ef\":\"\",\n",
    "             \"\\u201a\\u00c4\\u00ef\":\"\",\n",
    "             \" \\u201a\\u00c4\\u00ef Albert Camus, \":\"\"\n",
    "             }\n",
    "\n",
    "# file_path = \"/home/azureuser/reasoning-teacher/data/dataset/multiwd.json\"\n",
    "file_path = \"/home/azureuser/reasoning-teacher/data/dataset/lrf.json\"\n",
    "\n",
    "with open(file_path, \"r\") as multiwd_json:\n",
    "    data = json.load(multiwd_json)\n",
    "for elem in data['data']:\n",
    "    question = elem['question']\n",
    "    for key, value in uni_dict.items():\n",
    "        question = question.replace(key, value)\n",
    "        elem['question'] = question\n",
    "\n",
    "with open(file_path, 'w') as json_file:\n",
    "    json.dump(data, json_file)\n",
    "\n",
    "json_file.close()\n"
   ]
  },
  {
   "cell_type": "code",
   "execution_count": 99,
   "metadata": {},
   "outputs": [
    {
     "name": "stdout",
     "output_type": "stream",
     "text": [
      "{'sample_index': 0, 'question': \"I feel like my life is spiraling downwards getting worse each day. My dad has ALS, my mom is stressed out to the max taking care of a husband who is a selfish unappreciative jack wagon. I have to deal with a bullish, vindictive shithead for a manager that makes me dream of breaking his kneecaps inward, no friends, no woman, no life. My faith is growing dimmer by the day because of asshats who ride in on a hypocritical high horse. My doc says with my depression, anxiety, and high blood pressure, I wont live to see 35. Most nights, virtually every night, I go to bed a bit more angry, a bit more suicidal, and hoping, praying to a god who couldn't give a rat's ass about me to either give me cancer or do not allow me to wake up. My only vent is either here, where we all fight enough of our own battles to not worry about anyone else's (I'm not blaming anyone) or smoking black and milds. That's my vent for the evening. Does the spiritual wellness dimension exists in the post?\", 'answer': 'no', 'reasoning': \"In the post, the individual expresses feelings of despair, anger, and hopelessness. They talk about the challenges they are facing in their life, such as their father's illness, a difficult manager, and their own health issues. While they mention their faith growing dimmer and their prayers, there is no indication of a search for meaning or purpose in human existence. The focus of the post is on their negative experiences and emotions rather than on seeking a greater understanding or purpose. Therefore, the wellness dimension of the spiritual aspect is not present in this post according to Dunn's model.\"}\n"
     ]
    }
   ],
   "source": [
    "\n",
    "file_path = \"/home/azureuser/reasoning-teacher/data/dataset/multiwd.json\"\n",
    "with open(file_path, \"r\") as multiwd_json:\n",
    "    data = json.load(multiwd_json)\n",
    "print(data['data'][0])\n"
   ]
  },
  {
   "cell_type": "code",
   "execution_count": 103,
   "metadata": {},
   "outputs": [
    {
     "data": {
      "text/plain": [
       "\"Spent all day on the phone with my family crying. I'm\""
      ]
     },
     "execution_count": 103,
     "metadata": {},
     "output_type": "execute_result"
    }
   ],
   "source": [
    "uni_dict = {\"\\u201a\\u00c4\\u00f4\": \"'\",\n",
    "            \"espa\\u221a\\u00b1ol\": \"Spanish\"}\n",
    "input_string= \"Spent all day on the phone with my family crying. I\\u201a\\u00c4\\u00f4m\"\n",
    "if \"\\u201a\\u00c4\\u00f4\" in input_string:\n",
    "    input_string = input_string.replace(\"\\u201a\\u00c4\\u00f4\", \"'\")\n",
    "input_string"
   ]
  }
 ],
 "metadata": {
  "kernelspec": {
   "display_name": "rt",
   "language": "python",
   "name": "python3"
  },
  "language_info": {
   "codemirror_mode": {
    "name": "ipython",
    "version": 3
   },
   "file_extension": ".py",
   "mimetype": "text/x-python",
   "name": "python",
   "nbconvert_exporter": "python",
   "pygments_lexer": "ipython3",
   "version": "3.8.10"
  }
 },
 "nbformat": 4,
 "nbformat_minor": 2
}
